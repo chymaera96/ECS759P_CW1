{
 "cells": [
  {
   "cell_type": "code",
   "execution_count": 1,
   "id": "73738046",
   "metadata": {},
   "outputs": [],
   "source": [
    "import pandas as pd\n",
    "df = pd.read_csv('tubedata.csv', header=None)\n",
    "df.head()\n",
    "\n",
    "from collections import defaultdict\n",
    " \n",
    "station_dict = defaultdict(list)\n",
    "zone_dict = defaultdict(set)\n",
    "\n",
    "# get data row by row\n",
    "for index, row in df.iterrows():\n",
    "  \n",
    "    start_station = row[0]\n",
    "    end_station = row[1]\n",
    "    act_cost = int(row[3])\n",
    "\n",
    "    zone1 = row[4]\n",
    "    zone2 = row[5]\n",
    "\n",
    "    # station dictionary of child station tuples (child_name, cost from parent to the child)\n",
    "    # {\"Mile End\": [(\"Stepney Green\", 2), (\"Wembley\", 1)]}\n",
    "    station_list = station_dict[start_station]\n",
    "    station_list.append((end_station, act_cost))\n",
    "\n",
    "    # the following two lines add the other direction of the tube \"step\"\n",
    "    station_list = station_dict[end_station]\n",
    "    station_list.append((start_station, act_cost))\n",
    "\n",
    "    # we add the main zone\n",
    "    zone_dict[start_station].add(zone1)\n",
    "    # we add the secondary zone\n",
    "    if zone2 != \"0\":\n",
    "        zone_dict[start_station].add(zone2)\n",
    "        # if the secondary zone is not 0 it's the main zone for the ending station\n",
    "        zone_dict[end_station].add(zone2)\n",
    "    else:\n",
    "        # otherwise the main zone for the ending station is the same as for the starting station\n",
    "        zone_dict[end_station].add(zone1)"
   ]
  }
 ],
 "metadata": {
  "kernelspec": {
   "display_name": "Python 3 (ipykernel)",
   "language": "python",
   "name": "python3"
  },
  "language_info": {
   "codemirror_mode": {
    "name": "ipython",
    "version": 3
   },
   "file_extension": ".py",
   "mimetype": "text/x-python",
   "name": "python",
   "nbconvert_exporter": "python",
   "pygments_lexer": "ipython3",
   "version": "3.8.12"
  }
 },
 "nbformat": 4,
 "nbformat_minor": 5
}
